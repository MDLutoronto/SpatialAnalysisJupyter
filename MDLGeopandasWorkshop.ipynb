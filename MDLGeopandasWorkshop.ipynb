{
 "cells": [
  {
   "cell_type": "markdown",
   "id": "2812882e",
   "metadata": {},
   "source": [
    "# <span style=\"color: green;\">Map & Data Library GIS Python Workshop</span>\n",
    "\n",
    "## Geospatial Analysis with Python & Jupyter Notebooks\n",
    "Written by Ryan Siu\n",
    "\n",
    "Email: mdl@library.utoronto.ca <br>\n",
    "Main Page: https://mdl.library.utoronto.ca/ <br>\n",
    "UoftMDL Github: https://github.com/MDLutoronto"
   ]
  },
  {
   "cell_type": "markdown",
   "id": "948150f1",
   "metadata": {},
   "source": [
    "<div style=\"display: flex; align-items: center;\">\n",
    "    <img src=\"https://www.logo.wine/a/logo/University_of_Toronto/University_of_Toronto-Logo.wine.svg\" width=\"350\" style=\"margin-right: 10px;\" />\n",
    "    <img src=https://onesearch.library.utoronto.ca/sites/default/public/styles/medium/public/libraryphotos/robarts-icon2.jpg?itok=ggmvxGwL width=\"250\" />\n",
    "</div>\n"
   ]
  },
  {
   "cell_type": "markdown",
   "id": "4e97d37d",
   "metadata": {},
   "source": [
    " \n",
    " \n",
    " \n",
    " "
   ]
  },
  {
   "cell_type": "markdown",
   "id": "9aa33b09",
   "metadata": {},
   "source": [
    " "
   ]
  },
  {
   "cell_type": "markdown",
   "id": "aea6a633",
   "metadata": {},
   "source": [
    "## **The Map & Data Library**\n",
    "\n",
    "The Map & Data Library is on St. George campus, in [Robarts Library](https://onesearch.library.utoronto.ca/library-info/ROBARTS), We have other librarians, analysts, staff and students working there that can help you with your questions.\n",
    "\n",
    "We’re open Monday to Friday, 11am to 5pm. You can contact us to get help finding data, using geographic information systems (GIS) and digital mapping tools, data analysis and visualization tools, text and data mining (TDM), statistical support, and research data management (RDM). You can also [contact us](https://mdl.library.utoronto.ca/about/contact-form) with your questions or use the form to ask to set up an appointment with one of our staff members.\n",
    "\n",
    "You can find out more about the Map & Data Library through our website: [mdl.library.utoronto.ca](https://mdl.library.utoronto.ca/).\n",
    "\n",
    "In particular, you might want to look at other [workshops](https://mdl.library.utoronto.ca/support/workshops-and-training) we offer, including a growing number of previous workshop recordings and self-paced workshops you can self-enroll and take at any time.\n",
    "\n",
    "### **Python Workshops from MDL**\n",
    "If you are looking to learn more about Python in general, we have a host of learning material on our webpage. In particular, you may find our [two-part Python Workshop](https://mdl.library.utoronto.ca/technology/tutorials/python-information-tutorials-and-workshops) especially handy.\n",
    "\n",
    "There are video recordings, setup instructions, and solutions for you to reference."
   ]
  },
  {
   "cell_type": "markdown",
   "id": "b63fb1f4",
   "metadata": {},
   "source": [
    "# <span style=\"color: green;\">Introduction & Objectives</span>\n",
    "\n",
    "### Learning Goals\n",
    "* Understand the fundamentals of GIS Programming and its implementations in a geographic context\n",
    "* Perform different spatial operations using open-source Python libraries\n",
    "* Setting up a Python GIS Environment\n",
    "* Using [UofT's UTOR JupyterHub](https://datatools.utoronto.ca/)\n",
    "\n",
    "### Why Python & Jupyter Notebooks?\n",
    "Jupyter Notebooks allows you to create, work with, and share files that are compatible with the\n",
    "application. Our workshop will be conducted in `.ipynb` files. These are “interactive python\n",
    "notebook” files that are formatted into a notebook structure.\n",
    "* Open Source & Cost-Effective\n",
    "  * Free to download\n",
    "  * Allows for innovation\n",
    "* Automation & Efficiency\n",
    "  * Programming enables automation of repetitive tasks\n",
    "  * Reduce human error\n",
    "* Extensive Libraries & Tools\n",
    "  * Rich ecosystem of libraries designed for GIS and Spatial Analysis\n",
    "    * `geopandas`\n",
    "    * `rasterio`\n",
    "* Community & Support\n",
    "  * Active community of developers and hobbyists\n",
    "  * Wealth of resources, forums, and tutorials\n",
    "* Scalability & Integration\n",
    "  * Manage large datasets\n",
    "  * Extend capabilities of ArcGIS, QGIS, etc."
   ]
  },
  {
   "cell_type": "markdown",
   "id": "92e2f6bf",
   "metadata": {},
   "source": [
    "# <span style=\"color: green;\">PART I: The Python Environment</span>\n",
    "\n",
    "The first stage of a Python project is initializing the workspace or environment. This entails installing and importing a variety of software/packages needed for any analysis of interest, including the main Python software. There are many ways a user can do this, but this workshop will focus on using UofT's JupyterHub.\n",
    "\n",
    "### Using JupyterHub\n",
    "The JupyterHub already has the conda package manager setup - but you may need to install additional packages.\n",
    "\n",
    "It is recommended that you create virtual environments and install the packages you need. For example, you would no longer have access to JupyterHub after you graduate or if you are working offline. If this is something you are interested in doing, please reach out to MDL and we can help set this up.\n",
    "\n",
    "The Jupyter Notebook interface is an extension of IPython. It includes text formatting and a web interface for editing “notebooks”. The notebook contains both code and output cells. As can be seen here, notebooks may contain images, formatted text, etc. \n",
    "\n",
    "See extensive documentation on how to use Jupyter Notebook at https://jupyter-notebook.readthedocs.io/en/stable/notebook.html).\n",
    "\n",
    "As you work through this notebook, you'll notice that there are particular blocks or cells with code inside. Jupyter organizes the document in cells. Cells can be initialized as code, markdown, or raw.\n",
    "\n",
    "* Code cells are what you would use to input Python language. These types of cells are denoted by [  ].\n",
    "* Markdown cells are what you would use to format text using the markdown language. Options like bolding or italicizing are available to you in these cells. Elements like images, videos, or other explanatory content are also formattable here.\n",
    "* Raw cells are not executed by the notebook. They will be passed over when running.\n",
    "\n",
    "\n",
    "\n",
    "\n",
    "\n",
    "\n",
    "\n",
    "\n",
    "### Initializing the Notebook\n",
    "Commonly, the first step in the notebook is to initialize our workspace by importing our installed libraries from our environment. Even though the libraries are installed, they need to be ‘warmed up’ and brought into the work session.\n",
    "\n",
    "Let's try importing some libraries below.\n",
    "\n",
    "If you get an error - like this: `ModuleNotFoundError: No module named 'testPythonLibrary'`, it may mean that the library/module has not yet been installed. You can install them 'on-the-fly' using the `pip install [module]` command.\n"
   ]
  },
  {
   "cell_type": "markdown",
   "id": "c837f5a5",
   "metadata": {},
   "source": [
    "#### What Python Libraries are we using in this Workshop?\n",
    "\n",
    "[Pandas](https://pandas.pydata.org/docs/)<br>A standard Python library thats allows users to manipulate and analyze data through dataframe stuctured data, such as tables or timeseries.<br><br>\n",
    "[GeoPandas](https://geopandas.org/en/stable/docs.html)<br>A popular Python library that builds on the existing Pandas library, which adds support for working with geospatial data. Users are able to manipulate and analyze geographic data. You can work with shapefiles, GeoJSONs, and other geospatial formats.<br><br>\n",
    "[Matplotlib](https://matplotlib.org/stable/index.html)<br>A comprehensive Python library used for generating visualizations, such as graphs, charts, and plots. You can also create maps and dynamic maps using this library.<br><br>\n",
    "[contextily](https://contextily.readthedocs.io/en/latest/)<br>A library that faciliates the contextualization of your geospatial data during mapping. You can add and visualize a series of basemaps for your projects.<br><br>\n",
    "[LibPySAL](https://pysal.org/)<br>One pillar of the PySAL ecosystem. It is used to create and analyze spatial weights and perform geometry operations.<br><br>\n",
    "[NumPy](https://numpy.org/doc/2.2/)<br>A library used for mathematical and scientific computing. We will use the library to generate sampling seeds.<br><br>\n",
    "[ESDA](https://pysal.org/esda/)<br>Has functions to help identify and understand spatial patterns within geospatial data. Can derive statistics for trends, clusters, outliers, and spatial autocorrelation.<br><br>\n",
    "[seaborn](https://seaborn.pydata.org/tutorial.html)<br>A data visualization library built from matplotlib. It is particularly used for statistical visualizations/graphics.<br><br>\n",
    "[Rasterio](https://rasterio.readthedocs.io/en/stable/)<br>Rasterio supports users with raster analysis, such as satellite imagery, climate data, or elevation models. <br><br>\n",
    "[GDAL](https://gdal.org/en/stable/)<br>GDAL can be considered as a 'swiss army knife' of GIS. It supports data conversions between different formats of data, analysis, and is usually the behind the scenes of many GIS applications and software.<br><br>\n",
    "\n",
    "#### Installing/Importing Python Modules/Libraries\n",
    "This block of code below is an example of how we would import a library. We are summoning the geopandas\n",
    "library using the built-in import function from Python. The `as gpd` component means we want to\n",
    "import it and rename the geopandas library to gpd. A shortened version will help to save time when typing\n",
    "out functions.\n"
   ]
  },
  {
   "cell_type": "code",
   "execution_count": null,
   "id": "6bf2bae9",
   "metadata": {},
   "outputs": [],
   "source": [
    "# install the necessary libraries if needed\n",
    "# note that once installed, you won't need to run these commands again\n",
    "# you can bulk comment/uncomment using the Ctrl/Cmd + / keyboard shortcut\n",
    "\n",
    "# ! pip install geopandas\n",
    "# ! pip install matplotlib.pyplot\n",
    "# ! pip install contextily\n",
    "\n",
    "# import the libraries we will be using\n",
    "import geopandas as gpd \n",
    "import pandas as pd\n",
    "import matplotlib.pyplot as plt\n",
    "import contextily"
   ]
  },
  {
   "cell_type": "markdown",
   "id": "f2f7d7ed",
   "metadata": {},
   "source": [
    "# <span style=\"color: green;\">PART II: Creating Thematic Maps</span>\n",
    "\n",
    "### Exploring Population Density in Toronto\n",
    "As part of the data you downloaded, there is a shapefile for Toronto delineated to the Census Tract level. Census Tracts are one of the denominations used by Statistics Canada to define a geographical area. You can learn more about the different census geography units [here](https://mdl.library.utoronto.ca/canadian-census-geography-unit-definitions).\n",
    "\n",
    "The CTs contain some population data for the City of Toronto derived from the [2021 Census of Population](https://www12.statcan.gc.ca/census-recensement/2021/dp-pd/prof/index.cfm?Lang=E). Data was sourced from [CHASS's Canadian Census Analyzer](https://datacentre.chass.utoronto.ca/census/) and the [Statistic's Canada website](https://www12.statcan.gc.ca/census-recensement/2021/geo/sip-pis/boundary-limites/index2021-eng.cfm?year=21).\n",
    "\n",
    "Let's start by exploring the data as we normally would view them in an attribute table inside ArcGIS Pro. \n",
    "\n",
    "Below is a figure of what one would typically see when accessing the attribute table. Geo(Pandas) works very similar, where you will have a dataframe of each of the records in your geospatial dataset. You can directly manipulate and alter the contents using Python code.\n"
   ]
  },
  {
   "cell_type": "markdown",
   "id": "abc35004",
   "metadata": {},
   "source": [
    "<div style=\"display: flex; align-items: center;\">\n",
    "    <img src=\"https://geopandas.org/en/stable/_images/dataframe.svg\" width=\"700\" style=\"margin-right: 200px;\" />\n",
    "</div>\n"
   ]
  },
  {
   "cell_type": "code",
   "execution_count": null,
   "id": "0d475cb5",
   "metadata": {
    "scrolled": false
   },
   "outputs": [],
   "source": [
    "# as part of the downloaded files, there is a shapefile containing data\n",
    "# read in the shapefile and assign it to a variable called torontopop21\n",
    "# we use the gpd library and the .read_file() function, with the path of the shapefile as the argument\n",
    "\n",
    "torontopop21 = gpd.read_file('Toronto_Pop_CT2021_Python.shp')\n",
    "torontopop21.head() # display the top 5 observations in the dataset\n",
    "\n",
    "# you may opt to view the data differently\n",
    "# below is an example of sorting your dataframe/attribute table by the CTs with the highest population density\n",
    "# df_sorted = torontopop21.sort_values(by='PopDens21', ascending=False)\n",
    "# df_sorted\n",
    "\n",
    "# alternatively, you do not have to only view 5 observations\n",
    "# this is the default view, which shows the "
   ]
  },
  {
   "cell_type": "code",
   "execution_count": null,
   "id": "a5734ce0",
   "metadata": {},
   "outputs": [],
   "source": [
    "# you may opt to view the data differently\n",
    "# below is an example of sorting your dataframe/attribute table by the CTs with the highest population density\n",
    "torontopop21_sorted = torontopop21.sort_values(by='PopDens21', ascending=False)\n",
    "torontopop21_sorted"
   ]
  },
  {
   "cell_type": "code",
   "execution_count": null,
   "id": "13595611",
   "metadata": {},
   "outputs": [],
   "source": [
    "# alternatively, you do not have to only view 5 observations\n",
    "# this is the default view, which shows the top five and bottom five\n",
    "torontopop21"
   ]
  },
  {
   "cell_type": "markdown",
   "id": "2d18f566",
   "metadata": {},
   "source": [
    "#### You can click on the blank space under the Out [#], to the left of the dataframe to maximize/minimize the view. If you would like to view the ENTIRE dataframe, you can include this snippet of code to display all information: `pd.set_option('display.max_rows', None)`\n",
    "\n",
    "#### Let's try that below"
   ]
  },
  {
   "cell_type": "code",
   "execution_count": null,
   "id": "6339b71c",
   "metadata": {},
   "outputs": [],
   "source": [
    "# note that once you run this set_option() function, it will remain like that for all successive dataframes below\n",
    "pd.set_option('display.max_rows', None)\n",
    "torontopop21\n",
    "\n",
    "# now all the CTs for Toronto will be displayed in this cell output"
   ]
  },
  {
   "cell_type": "markdown",
   "id": "dedaa78a",
   "metadata": {},
   "source": [
    "#### Notice there are many fileds/columns in this dataframe. We can clean this dataframe to include only the columns we are interested in."
   ]
  },
  {
   "cell_type": "code",
   "execution_count": null,
   "id": "280c5da6",
   "metadata": {},
   "outputs": [],
   "source": [
    "# we can override our existing dataset variable by reassigning it to itself\n",
    "# let's take a subset of the column headers that are useful for our project\n",
    "# we will need to reference the exact column names in quotations, in the order we want them to appear\n",
    "\n",
    "torontopop21 = torontopop21[['CTUID', 'LANDAREA', 'Popn16', 'Popn21', 'PopDens21', 'PopChange2', \n",
    "                           'Shape_Leng', 'Shape_Area', 'geometry']]\n",
    "torontopop21.head()"
   ]
  },
  {
   "cell_type": "markdown",
   "id": "c0ee0a25",
   "metadata": {},
   "source": [
    "#### In addition to the attribute data we typically see, we can look at the metadata - such as the CRS of the shapefile.\n",
    "\n",
    "#### We could also look at the average Population Density for CTs in 2021."
   ]
  },
  {
   "cell_type": "code",
   "execution_count": null,
   "id": "817a6278",
   "metadata": {},
   "outputs": [],
   "source": [
    "# view coordinate reference system\n",
    "torontopop21.crs\n",
    "#print(torontopop21.crs)"
   ]
  },
  {
   "cell_type": "code",
   "execution_count": null,
   "id": "833f836b",
   "metadata": {},
   "outputs": [],
   "source": [
    "# let's try reporjecting our dataset to a more appropraite one\n",
    "# https://epsg.io/ is a great resource for finding a suitable crs\n",
    "# reproject the CRS to 26917 (UTM Zone 17N)\n",
    "torontopop21 = torontopop21.to_crs(26917)\n",
    "torontopop21.crs\n",
    "# take another look at the updated crs"
   ]
  },
  {
   "cell_type": "code",
   "execution_count": null,
   "id": "0e9955b8",
   "metadata": {},
   "outputs": [],
   "source": [
    "# calculate the average population density and assign this value to a variable\n",
    "# we will use our primary dataset, with reference to the population density column, applying the .mean() function\n",
    "average_popdens = torontopop21['PopDens21'].mean()\n",
    "average_popdens"
   ]
  },
  {
   "cell_type": "markdown",
   "id": "4554bf56",
   "metadata": {},
   "source": [
    "#### Let's attempt to visualize this dataset using the matplotlib library. "
   ]
  },
  {
   "cell_type": "code",
   "execution_count": null,
   "id": "12f8c876",
   "metadata": {
    "scrolled": false
   },
   "outputs": [],
   "source": [
    "# plot an unclassified choropleth to see what the raw data illustrates\n",
    "# we can use the matplotlib library to format a plot/figure for visualization\n",
    "# here we indicate how many plots we want. the (1, 1) parameters set the arrangement of the plots, sort of like a Cartesian Plot\n",
    "# we can also set the size of our plot, with the width and height parameters\n",
    "\n",
    "fig, axes = plt.subplots(1, 1, figsize = (14,8))\n",
    "\n",
    "# let's call on our dataset using the variable we pre-processed and use the .plot() function\n",
    "# for the parameters/arguments, we can decide which column/field we want to visualize\n",
    "# lets choose an appropriate colour scheme\n",
    "# we want to include a legend and ensure that it is sufficiently labelled\n",
    "\n",
    "torontopop21.plot(column='PopDens21',cmap='cividis',\n",
    "                ax = axes, legend = True,\n",
    "                legend_kwds = {'label': \"Population density\"})\n",
    "\n",
    "# we can use the contextlily library to add a basemap to our visualization\n",
    "# lets make certain that the projections align and the basemap matches our dataset\n",
    "\n",
    "contextily.add_basemap(ax=axes, crs=torontopop21.crs, source=contextily.providers.CartoDB.VoyagerNoLabels)\n",
    "\n",
    "# let's modify the axes and ensure our map has a title\n",
    "axes.axis('off')\n",
    "plt.title('Toronto Population Density by CT (2021)', fontsize=16)\n",
    "plt.show()"
   ]
  },
  {
   "cell_type": "markdown",
   "id": "4877c2d3",
   "metadata": {},
   "source": [
    "#### The data is pretty difficult to interpret in this format. \n",
    "#### Maybe we also want to look at the data distribution. This is an important step of visualizing data, such as identifying the appropriate classification scheme that we want to use (e.g., natural breaks or quantiles).\n",
    "#### We can create a histogram to explore the data further."
   ]
  },
  {
   "cell_type": "code",
   "execution_count": null,
   "id": "642037e4",
   "metadata": {},
   "outputs": [],
   "source": [
    "# we can use our dataset variable, with a specific field and plot the histogram\n",
    "\n",
    "torontopop21['PopDens21'].hist()\n",
    "plt.xlabel('Population density [people per square km]')\n",
    "plt.ylabel('Number of census tracts')\n",
    "plt.title('Distribution of CTs by population density in Toronto, 2021')\n",
    "plt.show()"
   ]
  },
  {
   "cell_type": "markdown",
   "id": "1f6aa686",
   "metadata": {},
   "source": [
    "#### Given the positive skew of the data, equal intervals are not appropriate\n",
    "#### Create a plot with quintiles"
   ]
  },
  {
   "cell_type": "code",
   "execution_count": null,
   "id": "a530f577",
   "metadata": {},
   "outputs": [],
   "source": [
    "fig, axes = plt.subplots(1, 1, figsize = (14,8))\n",
    "\n",
    "# this is the same code snippet as before, but we have added a scheme argument and indicate the number of classes, k\n",
    "torontopop21.plot(column='PopDens21',cmap='cividis', scheme='quantiles', k=5,\n",
    "                ax = axes, legend = True,\n",
    "                 legend_kwds={\n",
    "                        'loc': 'upper left',\n",
    "                        'bbox_to_anchor': (1, 1),\n",
    "                        'title': 'Pop. Den Quintiles'})\n",
    "\n",
    "axes.axis('off')\n",
    "plt.title('Toronto Population Density by CT (2021)', fontsize=16)\n",
    "plt.show()"
   ]
  },
  {
   "cell_type": "markdown",
   "id": "74212516",
   "metadata": {},
   "source": [
    "### Practice Activities\n",
    "Using the code above for reference, create a choropleth using 'natural_breaks' rather than 'quantiles'. Update the colour using a scheme of your choice (see https://matplotlib.org/stable/gallery/color/colormap_reference.html for cmap codes)"
   ]
  },
  {
   "cell_type": "code",
   "execution_count": null,
   "id": "0d844997",
   "metadata": {},
   "outputs": [],
   "source": [
    "# Insert your code here and run the cell...\n",
    "\n"
   ]
  },
  {
   "cell_type": "code",
   "execution_count": null,
   "id": "964c6577",
   "metadata": {},
   "outputs": [],
   "source": [
    "# we also have the option to create a dynamic, interactive map using the .explore() function\n",
    "# hover your mouse over census tracts for to see a pop-up of attribute values\n",
    "\n",
    "torontopop21.explore(\n",
    "    \"PopDens21\",\n",
    "    legend=False, # this legend is not great\n",
    "    cmap='cividis',\n",
    "    scheme=\"quantiles\",\n",
    "    k=5,\n",
    ")"
   ]
  },
  {
   "cell_type": "markdown",
   "id": "25970330",
   "metadata": {},
   "source": [
    "# <span style=\"color: green;\">PART III: Creating Proportional Symbol Maps</span>\n",
    "\n",
    "In Part II, we looked at the population density of CTs in Toronto. Next we will look into creating a proportional symbols map of percentage of population change between 2021 and 2016. This will help us identify regions that experience population growth or decline through the symbology of a polygon representing this change.\n",
    "\n",
    "### Create Centroids\n",
    "\n"
   ]
  },
  {
   "cell_type": "code",
   "execution_count": null,
   "id": "241171be",
   "metadata": {},
   "outputs": [],
   "source": [
    "# extract the centroids of CT polygons as a new geodataframe, so that the points can be used to place symbols\n",
    "# we create a new dataframe based on the centroids of the dataset geometry\n",
    "CT_centroids = gpd.GeoDataFrame(torontopop21.centroid, columns=['geometry'])\n",
    "\n",
    "# calculate percentage change in population\n",
    "# this follows standard BEDMAS/PEMDAS rules\n",
    "# we will create a new colume in our existing dataframe and apply this equation to calculate pop. change\n",
    "torontopop21['PcChange'] = ((torontopop21['Popn21']-torontopop21['Popn16'])/torontopop21['Popn21']*100)\n",
    "\n",
    "# create non-spatial subset of data and retain desired attribute values\n",
    "popdens = torontopop21[['CTUID','Popn21', 'Popn16', 'PopDens21', 'PcChange']].copy()\n",
    "\n",
    "# join non-spatial data with new points data\n",
    "CT_centroids = CT_centroids.join(popdens)\n",
    "CT_centroids.head()"
   ]
  },
  {
   "cell_type": "code",
   "execution_count": null,
   "id": "6e163733",
   "metadata": {},
   "outputs": [],
   "source": [
    "# we can set the symbol size to the 2021 absolute population value, ms for marker size\n",
    "ms = (CT_centroids['Popn21']/100)\n",
    "\n",
    "#Create a subplot to plot both layers\n",
    "fig, ax = plt.subplots()\n",
    "\n",
    "#Plot a simple basemap of census tract polygons\n",
    "torontopop21.plot(ax = ax,\n",
    "                  facecolor='lightgray',\n",
    "                     edgecolor='gray')\n",
    "\n",
    "#Add proportional symbols for population counts\n",
    "CT_centroids.plot(ax = ax,\n",
    "                     markersize=ms,\n",
    "                     color='blue')\n",
    "\n"
   ]
  },
  {
   "cell_type": "code",
   "execution_count": null,
   "id": "ee22d854",
   "metadata": {},
   "outputs": [],
   "source": [
    "# play with the data to see how else values may be visualized\n",
    "# here, I am looping through the rows of data and extracting positive and negative percent changes to new data fields\n",
    "CT_centroids['pc_inc'] = 0.0\n",
    "CT_centroids['pc_dec'] = 0.0\n",
    "\n",
    "for i in range(0, len(CT_centroids)):\n",
    "    pcvalue = CT_centroids.loc[i, 'PcChange'] \n",
    "    if pcvalue > 0: # if the % change is positive, it will be a percent increase\n",
    "        CT_centroids.loc[i,'pc_inc'] = pcvalue\n",
    "    else: # if the % change is negative, it will be a percent decrease\n",
    "        CT_centroids.loc[i,'pc_dec'] = (pcvalue*-1)\n",
    "\n",
    "CT_centroids.head()\n"
   ]
  },
  {
   "cell_type": "markdown",
   "id": "85377334",
   "metadata": {},
   "source": [
    "### Applying symbology to our centroids\n",
    "Feel free to edit the code below to make your own geovisualization of percentage change. You may like to change colours, add a title, and change the size of the plot."
   ]
  },
  {
   "cell_type": "code",
   "execution_count": null,
   "id": "1f139f55",
   "metadata": {
    "scrolled": false
   },
   "outputs": [],
   "source": [
    "from matplotlib.lines import Line2D\n",
    "\n",
    "# set the symbol size to percentage changes\n",
    "# both the increasing and decreasing centroids will use their corresponding percent values to determine the size\n",
    "msInc = (CT_centroids['pc_inc'])\n",
    "msDec = (CT_centroids['pc_dec'])\n",
    "\n",
    "# create an axis for all layers to fit on\n",
    "fig, ax = plt.subplots(figsize=(10,8))\n",
    "\n",
    "# plot a simple basemap of census tract polygons\n",
    "torontopop21.plot(ax = ax,\n",
    "                  facecolor='#666666',\n",
    "                  edgecolor='#8F8F8F')\n",
    "\n",
    "# add proportional symbols for percentage increase in population\n",
    "CT_centroids.plot(ax = ax,\n",
    "                     markersize=msInc,\n",
    "                     color='white')\n",
    "\n",
    "# add proportional symbols for percentage decrease in population\n",
    "CT_centroids.plot(ax = ax,\n",
    "                     markersize=msDec,\n",
    "                     color='black')\n",
    "\n",
    "# add some annotations including a title\n",
    "ax.set_title('Population Percent Change for Toronto: 2016-2021') #Add title here\n",
    "ax.set_axis_off()\n",
    "\n",
    "# add legend\n",
    "legend_elements = [\n",
    "    Line2D([0], [0], marker='o', color='w', markerfacecolor='white', markersize=10, label='Increase'),\n",
    "    Line2D([0], [0], marker='o', color='w', markerfacecolor='black', markersize=10, label='Decrease')\n",
    "]\n",
    "ax.legend(handles=legend_elements, loc='upper right', title=\"Population Change\")\n",
    "\n",
    "plt.show();"
   ]
  },
  {
   "cell_type": "markdown",
   "id": "9e5b9b65",
   "metadata": {},
   "source": [
    "# <span style=\"color: green;\">PART IV: Geographic Patterns & Distributions</span>\n",
    "\n",
    "Spatial autocorrelation explores the relationship between objects defined by distance or connectivity as per  [Tobler's First Law of Geography](https://doi.org/10.1111/j.1467-8306.2004.09402005.x): Thing's closer together in geographic space tend to be more similar in characteristics than things further apart <br>\n",
    "\n",
    "A positive Spatial Autocorrelation → nearby features tend to be similar <br>\n",
    "A negative Spatial Autocorrelation → nearby features tend to be unlike eachother\n",
    "\n",
    "Spatial autocorrelation analysis deals with two types of similarity -- **spatial** (the degree of adjacency, containment and connectivity) and **attributes** (feature numeric values).\n",
    "\n",
    "Let us explore the patterns of population density in Toronto CTs below. Is this variable more positively or negatively autocorrelated than we would expect given a random distribution?"
   ]
  },
  {
   "cell_type": "code",
   "execution_count": null,
   "id": "16755013",
   "metadata": {},
   "outputs": [],
   "source": [
    "# import the necessary libraries\n",
    "# reminder: if you encounter any library issues, you may insert a cell above and use the pip install [moduleName] line\n",
    "# ex. pip install pysal\n",
    "import pysal \n",
    "import libpysal as lp\n",
    "import numpy as np\n",
    "import esda\n",
    "import seaborn as sbn"
   ]
  },
  {
   "cell_type": "markdown",
   "id": "9026aa36",
   "metadata": {},
   "source": [
    "### Conducting a Global Spatial Autocorrelation\n",
    "A Global Spatial Autocorrelation statistic gives us a single value to describe the autocorrelation. It will comparing all CTs to their neighbours and take an average to derive a value.\n",
    "#### Create our Spatial Weights\n",
    "Spatial weights are used to initialize the concept of spatial similarity in Spatial Autocorrelation analyses. The spatial weight definition will indicate if neighbours are geographically similar or dissimilar. Two commonly employed weights are the **Queen** and **Rook** contiguities. Let's try this example with Queen's!"
   ]
  },
  {
   "cell_type": "code",
   "execution_count": null,
   "id": "8bf333ac",
   "metadata": {},
   "outputs": [],
   "source": [
    "# create a queen's contiguity spatial weight definition using the libpysal library\n",
    "# the \"r\" row standardizes the weights\n",
    "wq =  lp.weights.Queen.from_dataframe(torontopop21)\n",
    "wq.transform = 'r'"
   ]
  },
  {
   "cell_type": "markdown",
   "id": "5661b5c4",
   "metadata": {},
   "source": [
    "You may get an error indicating that there are disconnected components - which makes sense. Toronto Centre Island is not directly connected or neighbouring any other CTs."
   ]
  },
  {
   "cell_type": "code",
   "execution_count": null,
   "id": "abf3b55e",
   "metadata": {},
   "outputs": [],
   "source": [
    "# assigning a column field value from our dataframe\n",
    "y = torontopop21[\"PopDens21\"]"
   ]
  },
  {
   "cell_type": "code",
   "execution_count": null,
   "id": "7ac81a2a",
   "metadata": {},
   "outputs": [],
   "source": [
    "# Set seed for reproducibility\n",
    "# Run global Moran I\n",
    "# Set seed for reproducibility\n",
    "\n",
    "# running global Moran's I for Queen's\n",
    "np.random.seed(1234)\n",
    "queen_mi = esda.moran.Moran(y, wq)\n",
    "print('Queen I:', queen_mi.I)\n",
    "print('Queen EI:', queen_mi.EI)\n",
    "# Moran's value need to iterpreted in relation to the expected distribut under CRS\n",
    "# Our I > EI, so the pattern is not CSR"
   ]
  },
  {
   "cell_type": "code",
   "execution_count": null,
   "id": "8359444e",
   "metadata": {},
   "outputs": [],
   "source": [
    "# plotting global MI for Queen's\n",
    "sbn.kdeplot(queen_mi.sim, fill=True)\n",
    "plt.vlines(queen_mi.I, 0, 1, color='r')\n",
    "plt.vlines(queen_mi.EI, 0,1)\n",
    "plt.xlabel(\"Global Moran's I for Pop. Density (Queen's)\");"
   ]
  },
  {
   "cell_type": "code",
   "execution_count": null,
   "id": "b26a0bc2",
   "metadata": {},
   "outputs": [],
   "source": [
    "# Get p-value for simulation\n",
    "print(queen_mi.p_sim)"
   ]
  },
  {
   "cell_type": "markdown",
   "id": "6086150e",
   "metadata": {},
   "source": [
    "### Conducting a Local Spatial Autocorrelation (LiSA)\n",
    "A Local Moran's I statistic is essentially a Global Spatial Autocorrelation at a higher resolution. However, each object/CT will have its own value."
   ]
  },
  {
   "cell_type": "code",
   "execution_count": null,
   "id": "b6c21bd7",
   "metadata": {},
   "outputs": [],
   "source": [
    "np.random.seed(1234)\n",
    "wq.transform = 'r'\n",
    "lag_density = lp.weights.lag_spatial(wq, torontopop21['PopDens21'])"
   ]
  },
  {
   "cell_type": "code",
   "execution_count": null,
   "id": "9744e5fc",
   "metadata": {
    "scrolled": false
   },
   "outputs": [],
   "source": [
    "density = torontopop21['PopDens21']\n",
    "b, a = np.polyfit(density, lag_density, 1)\n",
    "f, ax = plt.subplots(1, figsize=(9, 9))\n",
    "\n",
    "plt.plot(density, lag_density, '.', color='firebrick')\n",
    "\n",
    " # dashed vert at mean of the population density\n",
    "plt.vlines(density.mean(), lag_density.min(), lag_density.max(), linestyle='--')\n",
    " # dashed horizontal at mean of lagged fires\n",
    "plt.hlines(lag_density.mean(), density.min(), density.max(), linestyle='--')\n",
    "\n",
    "# red line of best fit using global I as slope\n",
    "plt.plot(density, a + b*density, 'r')\n",
    "plt.title('Moran Scatterplot')\n",
    "plt.ylabel('Spatial Lag of Pop. Density')\n",
    "plt.xlabel('Pop. Density')\n",
    "plt.show()\n",
    "\n",
    "# High-High (HH) top right\n",
    "# Low-High (LH) top left\n",
    "# Low-Low (LL) bottom left\n",
    "# High-Low (HL) bottom right"
   ]
  },
  {
   "cell_type": "code",
   "execution_count": null,
   "id": "0e210861",
   "metadata": {},
   "outputs": [],
   "source": [
    "local_q = esda.moran.Moran_Local(y, wq)\n",
    "\n",
    "# sum of values < 0.05 level of statistical signficance\n",
    "(local_q.p_sim < 0.05).sum()\n",
    "\n",
    "# types of local clusters in MI plot\n",
    "sig = local_q.p_sim < 0.05\n",
    "hotspot = sig * local_q.q==1\n",
    "coldspot = sig * local_q.q==3\n",
    "doughnut = sig * local_q.q==2\n",
    "diamond = sig * local_q.q==4\n",
    "\n",
    "#hot spots\n",
    "spots = ['n.sig.', 'hot spot']\n",
    "labels = [spots[i] for i in hotspot*1]\n",
    "\n",
    "# cold spots\n",
    "spots = ['n.sig.', 'cold spot']\n",
    "labels = [spots[i] for i in coldspot*1]"
   ]
  },
  {
   "cell_type": "code",
   "execution_count": null,
   "id": "4e48821b",
   "metadata": {},
   "outputs": [],
   "source": [
    "# plotting both hot and cold spots on one map\n",
    "sig = 1 * (local_q.p_sim < 0.05)\n",
    "hotspot = 1 * (sig * local_q.q==1)\n",
    "coldspot = 3 * (sig * local_q.q==3)\n",
    "doughnut = 2 * (sig * local_q.q==2)\n",
    "diamond = 4 * (sig * local_q.q==4)\n",
    "spots = hotspot + coldspot + doughnut + diamond\n",
    "\n",
    "# refer to this for definitions https://geographicdata.science/book/notebooks/07_local_autocorrelation.html\n",
    "spot_labels = [ '0 Not Significant', '1 Hot Spot', '2 Doughnut', '3 Cold Spot', '4 Diamond']\n",
    "labels = [spot_labels[i] for i in spots]\n",
    "\n",
    "from matplotlib import colors\n",
    "hmap = colors.ListedColormap([ 'lightgrey', 'red', 'cyan', 'blue', 'salmon'])\n",
    "f, ax = plt.subplots(1, figsize=(9, 9))\n",
    "torontopop21.assign(cl=labels).plot(column='cl', categorical=True, \\\n",
    "        k=2, cmap=hmap, linewidth=0.1, ax=ax, \\\n",
    "        edgecolor='white', legend=True)\n",
    "ax.set_axis_off()\n",
    "plt.title(\"Hot and Cold Spots Map for Queen's\")\n",
    "plt.show()"
   ]
  },
  {
   "cell_type": "markdown",
   "id": "3dabff14",
   "metadata": {},
   "source": [
    "# <span style=\"color: green;\">PART V: Raster Data Analysis</span>\n",
    "\n",
    "Now we will conduct some simple image analysis on raster data - such as remote sensing imagery.\n",
    "\n",
    "\n"
   ]
  },
  {
   "cell_type": "code",
   "execution_count": null,
   "id": "4e58e571",
   "metadata": {},
   "outputs": [],
   "source": [
    "import rasterio as rio\n",
    "import rasterio.mask\n",
    "from osgeo import gdal\n",
    "from rasterio.plot import show"
   ]
  },
  {
   "cell_type": "code",
   "execution_count": null,
   "id": "fc8f83b6",
   "metadata": {},
   "outputs": [],
   "source": [
    "# load the image raster as image\n",
    "# the aerial imagery was acquired from Vexcel UltraCam X\n",
    "# for Latchford, Ontario from SCOOP 2023\n",
    "image = rio.open(\"COOP2021_Sample_Compressed.tif\", \"r\")\n",
    "show(image)"
   ]
  },
  {
   "cell_type": "code",
   "execution_count": null,
   "id": "723cc9e1",
   "metadata": {},
   "outputs": [],
   "source": [
    "# we can explore the metadata of the raster \n",
    "# it has a resolution of 16 cm with 4 bands (RGB and NIR)\n",
    "image.meta"
   ]
  },
  {
   "cell_type": "markdown",
   "id": "58c1d4cc",
   "metadata": {},
   "source": [
    "#### We can conduct some simple image anaylsis\n",
    "#### The Normalized Vegetation Difference Index is commonly employed [(CCRS)](https://natural-resources.canada.ca/science-data/science-research/geomatics/remote-sensing/tutorial-fundamentals-remote-sensing) in environmental and vegetation analysis.\n",
    "\n",
    "#### It uses the Near-Infrared and Red bands, which are included in our image. Values range from -1 to 1, where a lower number indicates no vegetation and a higher number represents healthier, denser vegetation."
   ]
  },
  {
   "cell_type": "code",
   "execution_count": null,
   "id": "ce4a9836",
   "metadata": {},
   "outputs": [],
   "source": [
    "# define a function to calculate NDVI\n",
    "def calc_ndvi(input_ras): # the calc_ndvi function will take some input raster\n",
    "    '''Calculate NDVI from raster'''\n",
    "    my_nir = input_ras.read(4)/input_ras.read(4).max() # extract the NIR band, which is the 4th band\n",
    "    my_red = input_ras.read(1)/input_ras.read(1).max() # extract the red band, which the the 1st band\n",
    "    my_ndvi = (my_nir - my_red) / (my_nir + my_red) # employ the NDVI function ((NIR-R)/(NIR+R))\n",
    "    return my_ndvi\n",
    "my_ndvi = calc_ndvi(image) # use the function and assign it to a variable"
   ]
  },
  {
   "cell_type": "code",
   "execution_count": null,
   "id": "1b315c27",
   "metadata": {},
   "outputs": [],
   "source": [
    "# create a ndvi plot of our raster image\n",
    "fig, ax = plt. subplots(1,1, figsize = (6,6))\n",
    "plt.imshow(my_ndvi, cmap='RdYlGn')\n",
    "plt.colorbar()\n",
    "plt.title('NDVI: {}'.format(\"Latchford\"))\n",
    "plt.axis(\"off\");"
   ]
  },
  {
   "cell_type": "code",
   "execution_count": null,
   "id": "b5d7374a",
   "metadata": {},
   "outputs": [],
   "source": [
    "# plot a histogram of the ndvi values processed\n",
    "plt.hist(my_ndvi.flatten());"
   ]
  },
  {
   "cell_type": "markdown",
   "id": "c0fddb82",
   "metadata": {},
   "source": [
    "# <span style=\"color: green;\">PART VI: Saving, Sharing, & Exporting</span>\n",
    "\n",
    "After creating your figures, maps, and visualizations, you will need to save these outside of Jupyter.\n",
    "\n",
    "* Simply right-clicking on the figure will give you the option to copy the image.\n",
    "* You can also export the figure to your root Jupyter directory using a function. Note that figures can also be assigned to a variable. Let's take our histogram as an example from the code above.\n",
    "\n",
    "\n",
    "\n"
   ]
  },
  {
   "cell_type": "code",
   "execution_count": null,
   "id": "0500e7d7",
   "metadata": {},
   "outputs": [],
   "source": [
    "# replot a histogram of the NDVI values\n",
    "ndvi_hist = plt.hist(my_ndvi.flatten())\n",
    "\n",
    "# save the histogram as a file\n",
    "# everytime you run this cell, the file will overwrite (unless you change the file name or extension)\n",
    "# plt.savefig(\"histogram.png\", dpi=300, bbox_inches=\"tight\")\n",
    "\n",
    "# if you go back to the root folder directory, the image will be save there\n"
   ]
  },
  {
   "cell_type": "markdown",
   "id": "052b9baf",
   "metadata": {},
   "source": [
    "#### This entire Python notebook can also be exported. If you navigate to the ribbon and select File > Download as - you have many options for saving the notebook.\n",
    "\n",
    "Saving as a\n",
    "* ipynb will let others access the same notebook you work on\n",
    "* pdf will enable others to view the contents as a static document\n",
    "* html will enables others to view and interact with the content (such as the .explore() map)\n"
   ]
  }
 ],
 "metadata": {
  "kernelspec": {
   "display_name": "Python 3 (ipykernel)",
   "language": "python",
   "name": "python3"
  },
  "language_info": {
   "codemirror_mode": {
    "name": "ipython",
    "version": 3
   },
   "file_extension": ".py",
   "mimetype": "text/x-python",
   "name": "python",
   "nbconvert_exporter": "python",
   "pygments_lexer": "ipython3",
   "version": "3.11.6"
  }
 },
 "nbformat": 4,
 "nbformat_minor": 5
}
